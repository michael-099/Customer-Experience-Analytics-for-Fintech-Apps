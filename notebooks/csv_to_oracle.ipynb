{
 "cells": [
  {
   "cell_type": "code",
   "execution_count": null,
   "id": "00b0c41a",
   "metadata": {},
   "outputs": [],
   "source": [
    "import cx_Oracle\n",
    "import pandas as pd\n",
    "from datetime import datetime"
   ]
  },
  {
   "cell_type": "code",
   "execution_count": null,
   "id": "7beaef6a",
   "metadata": {},
   "outputs": [],
   "source": [
    "# Load CSV\n",
    "df = pd.read_csv(\"scraped data.csv\")"
   ]
  },
  {
   "cell_type": "code",
   "execution_count": null,
   "id": "0e7a9d99",
   "metadata": {},
   "outputs": [],
   "source": [
    "\n",
    "# Connect to Oracle\n",
    "conn = cx_Oracle.connect(\"bank_reviews\", \"BankPass123\", \"localhost:1521/XEPDB1\")\n",
    "cursor = conn.cursor()"
   ]
  },
  {
   "cell_type": "code",
   "execution_count": null,
   "id": "c50fbaad",
   "metadata": {},
   "outputs": [],
   "source": [
    "# Dictionary to map bank name to bank_id\n",
    "bank_ids = {}"
   ]
  },
  {
   "cell_type": "code",
   "execution_count": null,
   "id": "a1743f71",
   "metadata": {},
   "outputs": [],
   "source": [
    "# Insert banks (avoid duplicates)\n",
    "unique_banks = df['bank'].unique()\n",
    "for bank_name in unique_banks:\n",
    "    cursor.execute(\"SELECT bank_id FROM banks WHERE name = :1\", [bank_name])\n",
    "    result = cursor.fetchone()\n",
    "    if result:\n",
    "        bank_ids[bank_name] = result[0]\n",
    "    else:\n",
    "        cursor.execute(\"\"\"\n",
    "            INSERT INTO banks (name) VALUES (:1)\n",
    "        \"\"\", [bank_name])\n",
    "        conn.commit()\n",
    "        cursor.execute(\"SELECT bank_id FROM banks WHERE name = :1\", [bank_name])\n",
    "        bank_ids[bank_name] = cursor.fetchone()[0]\n"
   ]
  },
  {
   "cell_type": "code",
   "execution_count": null,
   "id": "633b6428",
   "metadata": {},
   "outputs": [],
   "source": [
    "# Insert reviews\n",
    "for _, row in df.iterrows():\n",
    "    try:\n",
    "        review_text = str(row['review'])[:4000]  # truncate if too long\n",
    "        rating = int(row['rating']) if not pd.isna(row['rating']) else None\n",
    "        review_date = pd.to_datetime(row['date'], errors='coerce')\n",
    "        if pd.isna(review_date):\n",
    "            review_date = datetime.today()\n",
    "        bank_name = row['bank']\n",
    "        bank_id = bank_ids.get(bank_name)\n",
    "\n",
    "        cursor.execute(\"\"\"\n",
    "            INSERT INTO reviews (bank_id, reviewer_name, review_text, rating, review_date)\n",
    "            VALUES (:1, :2, :3, :4, :5)\n",
    "        \"\"\", (bank_id, \"Anonymous\", review_text, rating, review_date))\n",
    "    except Exception as e:\n",
    "        print(f\"Error inserting row: {e}\")\n"
   ]
  },
  {
   "cell_type": "code",
   "execution_count": null,
   "id": "ac1fc724",
   "metadata": {},
   "outputs": [],
   "source": [
    "# Finish\n",
    "conn.commit()\n",
    "cursor.close()\n",
    "conn.close()"
   ]
  },
  {
   "cell_type": "code",
   "execution_count": null,
   "id": "eb8cb26d",
   "metadata": {},
   "outputs": [],
   "source": [
    "print(\"All data inserted successfully.\")"
   ]
  }
 ],
 "metadata": {
  "kernelspec": {
   "display_name": "CE_Analytics",
   "language": "python",
   "name": "ce_analytics"
  },
  "language_info": {
   "name": "python",
   "version": "3.12.7"
  }
 },
 "nbformat": 4,
 "nbformat_minor": 5
}
